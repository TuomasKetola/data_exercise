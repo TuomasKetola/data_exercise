{
 "cells": [
  {
   "cell_type": "markdown",
   "id": "d016a0d7",
   "metadata": {},
   "source": [
    "# Solita data tehtava\n",
    "\n",
    "A jupyter notebook presenting the analysis required for Jaana to make a decision on whether they should take the IC27 train next thursday (10th November) to go see their sons basketball game.\n",
    "\n",
    "The end product is to create a small application which tells the user what time IC27 is likely to arrive in Tampere"
   ]
  },
  {
   "cell_type": "code",
   "execution_count": 31,
   "id": "2ef6bddc",
   "metadata": {},
   "outputs": [],
   "source": [
    "# import necessary python libraries\n",
    "\n",
    "import matplotlib.pyplot as plt\n",
    "import numpy as np\n",
    "import requests\n",
    "from datetime import datetime, timedelta\n",
    "import time\n",
    "import pandas as pd\n",
    "import json\n",
    "import os\n",
    "import sqlite3\n",
    "from sqlite3 import Error"
   ]
  },
  {
   "cell_type": "code",
   "execution_count": 32,
   "id": "217a9b4a",
   "metadata": {},
   "outputs": [],
   "source": [
    "def create_dir_if_not_exists(dir_):\n",
    "    \"\"\"\n",
    "    simple folder creation\n",
    "    \"\"\"\n",
    "    try:\n",
    "        os.makedirs(dir_)\n",
    "    except FileExistsError:\n",
    "        pass"
   ]
  },
  {
   "cell_type": "code",
   "execution_count": 33,
   "id": "42605249",
   "metadata": {},
   "outputs": [],
   "source": [
    "def json_dump(file_, path):\n",
    "    \"\"\"\n",
    "    dump json files\n",
    "    \"\"\"\n",
    "    with open(path, 'w') as out:\n",
    "        json.dump(file_, out,indent=2)"
   ]
  },
  {
   "cell_type": "code",
   "execution_count": 34,
   "id": "954a38a3",
   "metadata": {},
   "outputs": [],
   "source": [
    "def json_load(path):\n",
    "    \"\"\"\n",
    "    Load json Files\n",
    "    \"\"\"\n",
    "    with open(path,'r') as in_:\n",
    "        f = json.load(in_)\n",
    "    return f"
   ]
  },
  {
   "cell_type": "code",
   "execution_count": 35,
   "id": "fdbe415d",
   "metadata": {},
   "outputs": [],
   "source": [
    "def get_dates_for_range(range_, today):\n",
    "    \"\"\"\n",
    "    To interact with the API and to define the legth of our analysis we need all the string dates from given ranges\n",
    "    \"\"\"\n",
    "    history_dates = [today - timedelta(days = delta) for delta in range(1,range_)]\n",
    "    history_dates_str = [x.strftime('%Y-%m-%d') for x in history_dates]\n",
    "    return history_dates, history_dates_str"
   ]
  },
  {
   "cell_type": "markdown",
   "id": "e58ec933",
   "metadata": {},
   "source": [
    "## Defining main variables"
   ]
  },
  {
   "cell_type": "code",
   "execution_count": 36,
   "id": "0e3b314e",
   "metadata": {},
   "outputs": [],
   "source": [
    "# Basic variables\n",
    "train_str = 'IC27'\n",
    "train_nr = 27\n",
    "start_station = 'HKI'\n",
    "end_station = 'TPE'\n",
    "siirtyma_start = 0\n",
    "siirtyma_end = 900\n",
    "nr_days_for_datacollection = 100\n",
    "nr_days_for_estimate = 100\n",
    "data_dir = 'juna_data/' # not train_data.... horrendous data science issues\n",
    "create_dir_if_not_exists(data_dir)\n",
    "\n",
    "\n",
    "\n",
    "url = 'https://rata.digitraffic.fi/api/v1/trains/{date}/{train_nr}'\n",
    "today = datetime.today()\n",
    "history_dates, history_dates_str =  get_dates_for_range(nr_days_for_datacollection, today)"
   ]
  },
  {
   "cell_type": "markdown",
   "id": "bd8f3fd9",
   "metadata": {},
   "source": [
    "## KYSYMYS 1: Retrieve data from the API"
   ]
  },
  {
   "cell_type": "code",
   "execution_count": 37,
   "id": "4e09bce8",
   "metadata": {},
   "outputs": [],
   "source": [
    "for date in history_dates_str:\n",
    "    request_url = url.format(date=date,train_nr=train_nr)\n",
    "    response = requests.get(request_url)\n",
    "    if not response.ok:\n",
    "        print('api issue') # change to proper assert error if time\n",
    "    json_data = response.json()[0]\n",
    "    save_path = os.path.join(data_dir,date) + '.json'\n",
    "    json_dump(json_data, save_path)"
   ]
  },
  {
   "cell_type": "markdown",
   "id": "307527f9",
   "metadata": {},
   "source": [
    "## KYSYMYS 2: Clean up data and put it in a simple database\n",
    "\n",
    "Here the database is a simple python dictionar containing the relevant information from the data. Not only relevant information for the current analsysis but also potential further iterations. For example, the times the trains run are not currently used in the estimation, but they could potentially be useful in the future so that information should be saved"
   ]
  },
  {
   "cell_type": "code",
   "execution_count": 38,
   "id": "bea45823",
   "metadata": {},
   "outputs": [],
   "source": [
    "\n",
    "\n",
    "# datan siistiminen ja tietokanta\n",
    "\n",
    "juna_date_dict = {}\n",
    "# first retrieve information from database:\n",
    "history_dates_analysis, history_dates_str_analysis =  get_dates_for_range(nr_days_for_estimate, today)\n",
    "for date in history_dates_str_analysis: # not using same date range as analysis non nec done on whole datanbase\n",
    "    load_path = os.path.join(data_dir,date) + '.json'\n",
    "    f = json_load(load_path)\n",
    "    \n",
    "    # collect relevant info\n",
    "    for timeTableRow in f['timeTableRows']:\n",
    "        if timeTableRow['stationShortCode'] == start_station and timeTableRow['type'] == 'DEPARTURE':\n",
    "            actual_time_left = timeTableRow['actualTime']\n",
    "            scheduled_time_left = timeTableRow['scheduledTime']\n",
    "        elif timeTableRow['stationShortCode'] == end_station and timeTableRow['type'] == 'ARRIVAL':\n",
    "            actual_time_arrived = timeTableRow['actualTime']\n",
    "            scheduled_time_arrived = timeTableRow['scheduledTime']\n",
    "            difference_in_time = timeTableRow['differenceInMinutes']\n",
    "    juna_date_dict[date] = {\n",
    "        'actual_time_left': actual_time_left,\n",
    "        'scheduled_time_left': scheduled_time_left,\n",
    "        'actual_time_arrived': actual_time_arrived,\n",
    "        'scheduled_time_arrived': scheduled_time_arrived,\n",
    "        'difference_in_time': difference_in_time\n",
    "                                }\n"
   ]
  },
  {
   "cell_type": "code",
   "execution_count": 39,
   "id": "6e05c009",
   "metadata": {},
   "outputs": [],
   "source": [
    "def create_connection(db_file):\n",
    "    \"\"\" create a database connection to a SQLite database \"\"\"\n",
    "    conn = None\n",
    "    try:\n",
    "        conn = sqlite3.connect(db_file)\n",
    "        print(sqlite3.version)\n",
    "    except Error as e:\n",
    "        print(e)\n",
    "#     finally:\n",
    "#         if conn:\n",
    "#             conn.close()\n",
    "    return conn"
   ]
  },
  {
   "cell_type": "code",
   "execution_count": 40,
   "id": "79448426",
   "metadata": {},
   "outputs": [
    {
     "name": "stdout",
     "output_type": "stream",
     "text": [
      "2.6.0\n"
     ]
    }
   ],
   "source": [
    "conn = create_connection('trains.db') # just use ram as its small data\n"
   ]
  },
  {
   "cell_type": "code",
   "execution_count": 41,
   "id": "e1d69ded",
   "metadata": {},
   "outputs": [],
   "source": [
    "create_table_str = \"\"\"\n",
    "CREATE TABLE IF NOT EXISTS train_data (\n",
    "\ttripdate DATETIME PRIMARY KEY NOT NULL,\n",
    "\ttrain_id integer NOT NULL,\n",
    "\tactual_time_left DATETIME NOT NULL,\n",
    "\tscheduled_time_left DATETIME NOT NULL,\n",
    "\tactual_time_arrived DATETIME NOT NULL,\n",
    "\tscheduled_time_arrived DATETIME NOT NULL,\n",
    "\tdifference_in_time DATETIME NOT NULL\n",
    ");\n",
    "\"\"\"\n"
   ]
  },
  {
   "cell_type": "code",
   "execution_count": 42,
   "id": "5402e1e3",
   "metadata": {},
   "outputs": [],
   "source": [
    "if conn is not None:\n",
    "    try:\n",
    "        c = conn.cursor()\n",
    "        c.execute(create_table_str)\n",
    "    except Error as e:\n",
    "        print(e)\n",
    "\n",
    "else:\n",
    "    print(\"Error! cannot create the database connection.\")"
   ]
  },
  {
   "cell_type": "code",
   "execution_count": 43,
   "id": "0521c2c4",
   "metadata": {},
   "outputs": [],
   "source": [
    "def insert_trip(conn, trip):\n",
    "    \"\"\"\n",
    "    Create a new task\n",
    "    :param conn:\n",
    "    :param task:\n",
    "    :return:\n",
    "    \"\"\"\n",
    "\n",
    "    sql = ''' INSERT INTO train_data(tripdate,train_id,actual_time_left,scheduled_time_left,actual_time_arrived,scheduled_time_arrived,difference_in_time)\n",
    "              VALUES(?,?,?,?,?,?,?) '''\n",
    "    cur = conn.cursor()\n",
    "    cur.execute(sql, trip)\n",
    "    conn.commit()\n",
    "\n",
    "    return cur.lastrowid"
   ]
  },
  {
   "cell_type": "code",
   "execution_count": 44,
   "id": "6bd5ed4b",
   "metadata": {},
   "outputs": [],
   "source": [
    "def fetch_from_db(conn,q):\n",
    "    cur = conn.cursor()\n",
    "    cur.execute(q)\n",
    "    rows = cur.fetchall()\n",
    "    return rows"
   ]
  },
  {
   "cell_type": "code",
   "execution_count": 45,
   "id": "eeef48e4",
   "metadata": {},
   "outputs": [
    {
     "name": "stdout",
     "output_type": "stream",
     "text": [
      "trip: 2023-11-02 already exists\n",
      "trip: 2023-11-01 already exists\n",
      "trip: 2023-10-31 already exists\n",
      "trip: 2023-10-30 already exists\n",
      "trip: 2023-10-29 already exists\n",
      "trip: 2023-10-28 already exists\n",
      "trip: 2023-10-27 already exists\n",
      "trip: 2023-10-26 already exists\n",
      "trip: 2023-10-25 already exists\n",
      "trip: 2023-10-24 already exists\n",
      "trip: 2023-10-23 already exists\n",
      "trip: 2023-10-22 already exists\n",
      "trip: 2023-10-21 already exists\n",
      "trip: 2023-10-20 already exists\n",
      "trip: 2023-10-19 already exists\n",
      "trip: 2023-10-18 already exists\n",
      "trip: 2023-10-17 already exists\n",
      "trip: 2023-10-16 already exists\n",
      "trip: 2023-10-15 already exists\n",
      "trip: 2023-10-14 already exists\n",
      "trip: 2023-10-13 already exists\n",
      "trip: 2023-10-12 already exists\n",
      "trip: 2023-10-11 already exists\n",
      "trip: 2023-10-10 already exists\n",
      "trip: 2023-10-09 already exists\n",
      "trip: 2023-10-08 already exists\n",
      "trip: 2023-10-07 already exists\n",
      "trip: 2023-10-06 already exists\n",
      "trip: 2023-10-05 already exists\n",
      "trip: 2023-10-04 already exists\n",
      "trip: 2023-10-03 already exists\n",
      "trip: 2023-10-02 already exists\n",
      "trip: 2023-10-01 already exists\n",
      "trip: 2023-09-30 already exists\n",
      "trip: 2023-09-29 already exists\n",
      "trip: 2023-09-28 already exists\n",
      "trip: 2023-09-27 already exists\n",
      "trip: 2023-09-26 already exists\n",
      "trip: 2023-09-25 already exists\n",
      "trip: 2023-09-24 already exists\n",
      "trip: 2023-09-23 already exists\n",
      "trip: 2023-09-22 already exists\n",
      "trip: 2023-09-21 already exists\n",
      "trip: 2023-09-20 already exists\n",
      "trip: 2023-09-19 already exists\n",
      "trip: 2023-09-18 already exists\n",
      "trip: 2023-09-17 already exists\n",
      "trip: 2023-09-16 already exists\n",
      "trip: 2023-09-15 already exists\n",
      "trip: 2023-09-14 already exists\n",
      "trip: 2023-09-13 already exists\n",
      "trip: 2023-09-12 already exists\n",
      "trip: 2023-09-11 already exists\n",
      "trip: 2023-09-10 already exists\n",
      "trip: 2023-09-09 already exists\n",
      "trip: 2023-09-08 already exists\n",
      "trip: 2023-09-07 already exists\n",
      "trip: 2023-09-06 already exists\n",
      "trip: 2023-09-05 already exists\n",
      "trip: 2023-09-04 already exists\n",
      "trip: 2023-09-03 already exists\n",
      "trip: 2023-09-02 already exists\n",
      "trip: 2023-09-01 already exists\n",
      "trip: 2023-08-31 already exists\n",
      "trip: 2023-08-30 already exists\n",
      "trip: 2023-08-29 already exists\n",
      "trip: 2023-08-28 already exists\n",
      "trip: 2023-08-27 already exists\n",
      "trip: 2023-08-26 already exists\n",
      "trip: 2023-08-25 already exists\n",
      "trip: 2023-08-24 already exists\n",
      "trip: 2023-08-23 already exists\n",
      "trip: 2023-08-22 already exists\n",
      "trip: 2023-08-21 already exists\n",
      "trip: 2023-08-20 already exists\n",
      "trip: 2023-08-19 already exists\n",
      "trip: 2023-08-18 already exists\n",
      "trip: 2023-08-17 already exists\n",
      "trip: 2023-08-16 already exists\n",
      "trip: 2023-08-15 already exists\n",
      "trip: 2023-08-14 already exists\n",
      "trip: 2023-08-13 already exists\n",
      "trip: 2023-08-12 already exists\n",
      "trip: 2023-08-11 already exists\n",
      "trip: 2023-08-10 already exists\n",
      "trip: 2023-08-09 already exists\n",
      "trip: 2023-08-08 already exists\n",
      "trip: 2023-08-07 already exists\n",
      "trip: 2023-08-06 already exists\n",
      "trip: 2023-08-05 already exists\n",
      "trip: 2023-08-04 already exists\n",
      "trip: 2023-08-03 already exists\n",
      "trip: 2023-08-02 already exists\n",
      "trip: 2023-08-01 already exists\n",
      "trip: 2023-07-31 already exists\n",
      "trip: 2023-07-30 already exists\n",
      "trip: 2023-07-29 already exists\n",
      "trip: 2023-07-28 already exists\n",
      "trip: 2023-07-27 already exists\n"
     ]
    }
   ],
   "source": [
    "for key, values in juna_date_dict.items():\n",
    "    to_insert = (key, 27, \n",
    "           values['actual_time_left'], \n",
    "           values['scheduled_time_left'],\n",
    "           values['actual_time_arrived'], \n",
    "           values['scheduled_time_arrived'],\n",
    "           values['difference_in_time'])\n",
    "    try:\n",
    "        insert_trip(conn, to_insert)\n",
    "    except: # error handing to be made better\n",
    "        print('trip: {} already exists'.format(key))"
   ]
  },
  {
   "cell_type": "code",
   "execution_count": null,
   "id": "e5e8442a",
   "metadata": {},
   "outputs": [],
   "source": []
  },
  {
   "cell_type": "markdown",
   "id": "117aad7f",
   "metadata": {},
   "source": [
    "# KYSYMYS 3 ja 4: Ennuste ja perustelut Saapumis ajasta\n",
    "\n",
    "The easiest way to predict the actual arrival time of IC27 is to look whether it is usually on time. Meaning we are interested in the distribution of the amount of lateness of the trains. For this the difference in time variable provided by the API is very useful. "
   ]
  },
  {
   "cell_type": "markdown",
   "id": "f2617d40",
   "metadata": {},
   "source": [
    "### First we draw the distribution of the difference_in_time variable over the chosen time period."
   ]
  },
  {
   "cell_type": "code",
   "execution_count": 46,
   "id": "d86ea91e",
   "metadata": {},
   "outputs": [
    {
     "data": {
      "text/plain": [
       "(array([ 5., 19., 47.,  9.,  6.,  2.,  3.,  1.,  0.,  3.,  1.,  0.,  0.,\n",
       "         1.,  0.,  0.,  0.,  0.,  0.,  0.,  1.,  0.,  0.,  0.,  0.,  0.,\n",
       "         0.,  0.,  0.,  1.]),\n",
       " array([-3.        , -1.56666667, -0.13333333,  1.3       ,  2.73333333,\n",
       "         4.16666667,  5.6       ,  7.03333333,  8.46666667,  9.9       ,\n",
       "        11.33333333, 12.76666667, 14.2       , 15.63333333, 17.06666667,\n",
       "        18.5       , 19.93333333, 21.36666667, 22.8       , 24.23333333,\n",
       "        25.66666667, 27.1       , 28.53333333, 29.96666667, 31.4       ,\n",
       "        32.83333333, 34.26666667, 35.7       , 37.13333333, 38.56666667,\n",
       "        40.        ]),\n",
       " <BarContainer object of 30 artists>)"
      ]
     },
     "execution_count": 46,
     "metadata": {},
     "output_type": "execute_result"
    },
    {
     "data": {
      "image/png": "[encoded data removed]",
      "text/plain": [
       "<Figure size 640x480 with 1 Axes>"
      ]
     },
     "metadata": {},
     "output_type": "display_data"
    }
   ],
   "source": [
    "# to_draw = []\n",
    "to_draw = [x[0] for x in fetch_from_db(conn,'select difference_in_time from train_data')]\n",
    "to_draw = sorted(to_draw)\n",
    "plt.hist(to_draw,bins=30)"
   ]
  },
  {
   "cell_type": "markdown",
   "id": "cd4325da",
   "metadata": {},
   "source": [
    "From the graph we can see that usually the train is either on time or a few minutes late. It is worth zooming to the left side of the figure to understand the distribution better"
   ]
  },
  {
   "cell_type": "code",
   "execution_count": 47,
   "id": "b0234a3a",
   "metadata": {},
   "outputs": [
    {
     "data": {
      "text/plain": [
       "(array([ 1.,  4.,  0., 19., 25.,  0., 22.,  9.,  0.,  3.,  0.,  3.,  2.,\n",
       "         0.,  1.,  2.,  0.,  1.,  0.,  0.,  2.,  0.,  1.,  1.,  0.,  0.,\n",
       "         0.,  0.,  0.,  1.]),\n",
       " array([-3.        , -2.36666667, -1.73333333, -1.1       , -0.46666667,\n",
       "         0.16666667,  0.8       ,  1.43333333,  2.06666667,  2.7       ,\n",
       "         3.33333333,  3.96666667,  4.6       ,  5.23333333,  5.86666667,\n",
       "         6.5       ,  7.13333333,  7.76666667,  8.4       ,  9.03333333,\n",
       "         9.66666667, 10.3       , 10.93333333, 11.56666667, 12.2       ,\n",
       "        12.83333333, 13.46666667, 14.1       , 14.73333333, 15.36666667,\n",
       "        16.        ]),\n",
       " <BarContainer object of 30 artists>)"
      ]
     },
     "execution_count": 47,
     "metadata": {},
     "output_type": "execute_result"
    },
    {
     "data": {
      "image/png": "[encoded data removed]",
      "text/plain": [
       "<Figure size 640x480 with 1 Axes>"
      ]
     },
     "metadata": {},
     "output_type": "display_data"
    }
   ],
   "source": [
    "# to_draw = []\n",
    "to_draw_zoom = [x[0] for x in fetch_from_db(conn,'select difference_in_time from train_data where difference_in_time < 20')]\n",
    "# to_draw_zoom = [x for x in to_draw if x < 20] # zoom\n",
    "to_draw_zoom = sorted(to_draw_zoom)\n",
    "plt.hist(to_draw_zoom,bins=30)"
   ]
  },
  {
   "cell_type": "markdown",
   "id": "9781aa04",
   "metadata": {},
   "source": [
    "### So how late is the train on average?"
   ]
  },
  {
   "cell_type": "code",
   "execution_count": 48,
   "id": "00d80fa9",
   "metadata": {},
   "outputs": [
    {
     "name": "stdout",
     "output_type": "stream",
     "text": [
      "On average the train is 1.96 minutes late\n"
     ]
    }
   ],
   "source": [
    "print('On average the train is {} minutes late'.format(round(np.mean(to_draw),2)))"
   ]
  },
  {
   "cell_type": "markdown",
   "id": "a7082627",
   "metadata": {},
   "source": [
    "Train is scheduled to arrive at 15:58 next Thursday. Based on our estimate the train should arrive at 16:00, since on average it is about 2 minutest late.\n",
    "\n",
    "\n",
    "\n",
    "A more useful metric for Jaana might be the probability of her being on time for the game:"
   ]
  },
  {
   "cell_type": "code",
   "execution_count": 49,
   "id": "b97aa4de",
   "metadata": {},
   "outputs": [
    {
     "name": "stdout",
     "output_type": "stream",
     "text": [
      "The probability of Jaana being on time for the game is 0.72\n"
     ]
    }
   ],
   "source": [
    "print('The probability of Jaana being on time for the game is {}'.format(\n",
    "        round(len([x for x in to_draw if x <2]) / len(to_draw),2))\n",
    "     )"
   ]
  },
  {
   "cell_type": "markdown",
   "id": "c2958824",
   "metadata": {},
   "source": [
    "## KYSYMYS 5: Separate File (sovellus.py)"
   ]
  },
  {
   "cell_type": "code",
   "execution_count": null,
   "id": "cfc0e267",
   "metadata": {},
   "outputs": [],
   "source": []
  }
 ],
 "metadata": {
  "kernelspec": {
   "display_name": "data_exercise",
   "language": "python",
   "name": "data_exercise"
  },
  "language_info": {
   "codemirror_mode": {
    "name": "ipython",
    "version": 3
   },
   "file_extension": ".py",
   "mimetype": "text/x-python",
   "name": "python",
   "nbconvert_exporter": "python",
   "pygments_lexer": "ipython3",
   "version": "3.10.8"
  }
 },
 "nbformat": 4,
 "nbformat_minor": 5
}
